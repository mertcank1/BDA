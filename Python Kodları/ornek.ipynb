{
 "cells": [
  {
   "cell_type": "code",
   "execution_count": null,
   "id": "32dfa946",
   "metadata": {},
   "outputs": [],
   "source": [
    "# Import PySpark\n",
    "import pyspark\n",
    "from pyspark.sql import SparkSession\n",
    "from pyspark.sql import SQLContext\n",
    "\n",
    "# Create SparkSession\n",
    "spark = SparkSession.builder.master(\"local[1]\").appName(\"SparkByExamples.com\").getOrCreate()\n",
    "sc=spark.sparkContext\n",
    "sqlc = SQLContext(sc)"
   ]
  },
  {
   "cell_type": "code",
   "execution_count": null,
   "id": "21294407",
   "metadata": {},
   "outputs": [],
   "source": [
    "# Create DataFrame from List\n",
    "from pyspark.sql import Row\n",
    "na_schema = Row(\"Name\",\"Age\")\n",
    "row1 = na_schema(\"Ankit\", 23)\n",
    "row2 = na_schema(\"Tyler\", 26)\n",
    "row3 = na_schema(\"Preity\", 36)\n",
    "na_list = [row1, row2, row3]\n",
    "df_na = spark.createDataFrame(na_list)\n",
    "type(df_na)\n",
    "df_na.show()"
   ]
  },
  {
   "cell_type": "code",
   "execution_count": null,
   "id": "48ed8c9f",
   "metadata": {},
   "outputs": [],
   "source": [
    "# Create DataFrame from RDD\n",
    "data = [(\"Ankit\",23),(\"Tyler\",26),(\"Preity\",36)]\n",
    "data_rdd = sc.parallelize(data)\n",
    "type(data_rdd)\n",
    "data_sd = sqlc.createDataFrame(data_rdd)\n",
    "data_sd.show()"
   ]
  },
  {
   "cell_type": "code",
   "execution_count": null,
   "id": "481d1dc5",
   "metadata": {},
   "outputs": [],
   "source": [
    "# Remove already existing iris.csv file\n",
    "!rm iris.csv"
   ]
  },
  {
   "cell_type": "code",
   "execution_count": null,
   "id": "0b0ac614",
   "metadata": {},
   "outputs": [],
   "source": [
    "# Upload iris.csv file\n",
    "from google.colab import files\n",
    "uploaded = files.upload()\n",
    "df = sqlc.read.format('com.databricks.spark.csv').options(header='true', inferschema='true').load('iris.csv')\n",
    "type(df)\n",
    "df.show(4)"
   ]
  },
  {
   "cell_type": "code",
   "execution_count": null,
   "id": "8c0e6729",
   "metadata": {},
   "outputs": [],
   "source": [
    "# Get Pandas DataFrame\n",
    "import pandas as pd\n",
    "df.toPandas()"
   ]
  }
 ],
 "metadata": {
  "kernelspec": {
   "display_name": "Python 3",
   "language": "python",
   "name": "python3"
  },
  "language_info": {
   "name": "python",
   "version": "3.11.2"
  }
 },
 "nbformat": 4,
 "nbformat_minor": 5
}
