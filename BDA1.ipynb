{
  "nbformat": 4,
  "nbformat_minor": 0,
  "metadata": {
    "colab": {
      "provenance": []
    },
    "kernelspec": {
      "name": "python3",
      "display_name": "Python 3"
    },
    "language_info": {
      "name": "python"
    }
  },
  "cells": [
    {
      "cell_type": "code",
      "execution_count": null,
      "metadata": {
        "colab": {
          "base_uri": "https://localhost:8080/"
        },
        "id": "gFn0-PLc7xV3",
        "outputId": "c3781876-c81a-4f90-da0a-e2a1d55d102a"
      },
      "outputs": [
        {
          "output_type": "stream",
          "name": "stdout",
          "text": [
            "Mounted at /content/gdrive\n",
            "+------+---+------+\n",
            "|  name|age|height|\n",
            "+------+---+------+\n",
            "|  john| 22|   180|\n",
            "|Hughes| 34|   196|\n",
            "|  Mary| 27|   156|\n",
            "+------+---+------+\n",
            "\n",
            "+---+\n",
            "|age|\n",
            "+---+\n",
            "| 22|\n",
            "| 34|\n",
            "| 27|\n",
            "+---+\n",
            "\n",
            "+---+------+\n",
            "|age|height|\n",
            "+---+------+\n",
            "| 22|   180|\n",
            "| 34|   196|\n",
            "| 27|   156|\n",
            "+---+------+\n",
            "\n"
          ]
        }
      ],
      "source": [
        "from pyspark.sql import SparkSession\n",
        "spark = SparkSession \\\n",
        ".builder \\\n",
        ".appName(\"Python Spark Session\") \\\n",
        ".getOrCreate()\n",
        "\n",
        "df = spark.createDataFrame([\n",
        "    (\"Jonh\", 22, 1.80), ( \"Hughes\", 34,1.96),\n",
        "    (\"Mary\",27, 1.56)], [\"name\", \"age\", \"height\"])\n",
        "from google.colab import drive\n",
        "drive.mount('/content/gdrive', force_remount=True)\n",
        "import pandas as pd\n",
        "\n",
        "# Load data\n",
        "df = spark.read.csv('/content/gdrive/MyDrive/mydata.csv',header=True,sep = ';')\n",
        "df.show()\n",
        "\n",
        "df['age'].Column['age']\n",
        "\n",
        "df.select(df['name'])\n",
        "df.select(df['age']).show()\n",
        "df.select(df['age'], df['height']).show()"
      ]
    },
    {
      "cell_type": "markdown",
      "source": [
        "**Metni Ayrıştırma ve Temizleme**\n",
        "\n",
        "Bu alıştırmada, bir metin dosyasını okuyacağız, satırlara böleceğiz ve\n",
        "verilen dizeden the ve a kelimelerini kaldıracağız:\n"
      ],
      "metadata": {
        "id": "KTBicL1_fji1"
      }
    },
    {
      "cell_type": "code",
      "source": [
        "from operator import add\n",
        "\n",
        "from google.colab import drive\n",
        "drive.mount('/content/gdrive', force_remount=True)\n",
        "import pandas as pd\n",
        "\n",
        "# Load data\n",
        "rdd_df = spark.read.text('/content/gdrive/MyDrive/shake.txt').rdd\n",
        "lines = rdd_df.map(lambda line: line[0])\n"
      ],
      "metadata": {
        "colab": {
          "base_uri": "https://localhost:8080/"
        },
        "id": "d34E5R6-QuJ3",
        "outputId": "fa1a134f-2a25-4f7a-96cd-ba625e5e5803"
      },
      "execution_count": null,
      "outputs": [
        {
          "output_type": "stream",
          "name": "stdout",
          "text": [
            "Mounted at /content/gdrive\n"
          ]
        }
      ]
    },
    {
      "cell_type": "code",
      "source": [
        "lines.collect()\n"
      ],
      "metadata": {
        "colab": {
          "base_uri": "https://localhost:8080/"
        },
        "id": "jmAd6B3GezTP",
        "outputId": "553b0c88-149d-431c-9165-bfcb428d60c6"
      },
      "execution_count": null,
      "outputs": [
        {
          "output_type": "execute_result",
          "data": {
            "text/plain": [
              "['To be, or not to be, that is the question:',\n",
              " \"Whether 'tis nobler in the mind to suffer\",\n",
              " 'The slings and arrows of outrageous fortune,',\n",
              " 'Or to take arms against a sea of troubles',\n",
              " 'And by opposing end them. To die—to sleep,',\n",
              " 'No more; and by a sleep to say we end',\n",
              " 'The heart-ache and the thousand natural shocks',\n",
              " \"That flesh is heir to: 'tis a consummation\",\n",
              " \"Devoutly to be wish'd. To die, to sleep;\",\n",
              " \"To sleep, perchance to dream—ay, there's the rub:\",\n",
              " 'For in that sleep of death what dreams may come,',\n",
              " 'When we have shuffled off this mortal coil,',\n",
              " \"Must give us pause—there's the respect\",\n",
              " 'That makes calamity of so long life.']"
            ]
          },
          "metadata": {},
          "execution_count": 36
        }
      ]
    },
    {
      "cell_type": "code",
      "source": [
        "lines.count()"
      ],
      "metadata": {
        "colab": {
          "base_uri": "https://localhost:8080/"
        },
        "id": "OPvfXrdge1DD",
        "outputId": "96343528-1726-44eb-d8c9-ef1576abd76c"
      },
      "execution_count": null,
      "outputs": [
        {
          "output_type": "execute_result",
          "data": {
            "text/plain": [
              "14"
            ]
          },
          "metadata": {},
          "execution_count": 37
        }
      ]
    },
    {
      "cell_type": "code",
      "source": [
        "splits = lines.flatMap(lambda x: x.split('  '))\n",
        "lower_splits = splits.map(lambda x: x.lower().strip())"
      ],
      "metadata": {
        "id": "UBCddEdve2CQ"
      },
      "execution_count": null,
      "outputs": []
    },
    {
      "cell_type": "code",
      "source": [
        "prep = ['the', 'a', ',', '.']"
      ],
      "metadata": {
        "id": "sKQotFuIe5R0"
      },
      "execution_count": null,
      "outputs": []
    },
    {
      "cell_type": "code",
      "source": [
        "tokens = lower_splits.filter(lambda x: x and x not in prep)"
      ],
      "metadata": {
        "id": "70JsQMfJfA_Q"
      },
      "execution_count": null,
      "outputs": []
    },
    {
      "cell_type": "code",
      "source": [
        "token_list = tokens.map(lambda x: [x, 1])"
      ],
      "metadata": {
        "id": "55wFke6BfP4q"
      },
      "execution_count": null,
      "outputs": []
    },
    {
      "cell_type": "code",
      "source": [
        "count = token_list.reduceByKey(add).sortBy(lambda x: x[1],\n",
        "ascending=False)\n",
        "count.collect()"
      ],
      "metadata": {
        "colab": {
          "base_uri": "https://localhost:8080/"
        },
        "id": "il0xF3YRfTha",
        "outputId": "2dbf4967-3bfa-4bb5-86f5-a7577c3c43ae"
      },
      "execution_count": null,
      "outputs": [
        {
          "output_type": "execute_result",
          "data": {
            "text/plain": [
              "[('to be, or not to be, that is the question:', 1),\n",
              " (\"whether 'tis nobler in the mind to suffer\", 1),\n",
              " ('the slings and arrows of outrageous fortune,', 1),\n",
              " ('or to take arms against a sea of troubles', 1),\n",
              " ('and by opposing end them. to die—to sleep,', 1),\n",
              " ('no more; and by a sleep to say we end', 1),\n",
              " ('the heart-ache and the thousand natural shocks', 1),\n",
              " (\"that flesh is heir to: 'tis a consummation\", 1),\n",
              " (\"devoutly to be wish'd. to die, to sleep;\", 1),\n",
              " (\"to sleep, perchance to dream—ay, there's the rub:\", 1),\n",
              " ('for in that sleep of death what dreams may come,', 1),\n",
              " ('when we have shuffled off this mortal coil,', 1),\n",
              " (\"must give us pause—there's the respect\", 1),\n",
              " ('that makes calamity of so long life.', 1)]"
            ]
          },
          "metadata": {},
          "execution_count": 43
        }
      ]
    },
    {
      "cell_type": "markdown",
      "source": [
        "**Metinden Durdurma Sözcüklerini Kaldırma**\n",
        "\n",
        "Bu etkinlikte bir metin dosyasını okuyacağız, satırlara böleceğiz ve\n",
        "metinden durdurma kelimelerini kaldıracağız:\n",
        "1. Yukarıdaki kullanılan *shake.txt* metin dosyasını okuyun.\n",
        "\n",
        "2. Satırları metinden çıkarın ve her satırla bir liste oluşturun.\n",
        "\n",
        "3. Her satırı, etrafındaki boşluklara bölerek kelimelere ayırın ve\n",
        "büyük harfli kelimeleri çıkarın.\n",
        "\n",
        "4. Jeton listemizden “of”, “a”, “and”, “to” gibi durdurma\n",
        "kelimelerini kaldırın.\n",
        "\n",
        "5. Jeton listesini işleyin ve benzersiz kelimeleri sayarak, jeton ve\n",
        "sayısından oluşan bir liste oluşturun.\n",
        "\n",
        "6. Jetonlarımızı reduceByKey işlemini kullanarak bir listeye eşleyin."
      ],
      "metadata": {
        "id": "c_vki2mpf4U6"
      }
    },
    {
      "cell_type": "code",
      "source": [
        "from operator import add\n",
        "\n",
        "from google.colab import drive\n",
        "drive.mount('/content/gdrive', force_remount=True)\n",
        "import pandas as pd\n",
        "\n",
        "# Load data\n",
        "rdd_df = spark.read.text('/content/gdrive/MyDrive/shake.txt').rdd\n",
        "lines = rdd_df.map(lambda line: line[0])\n",
        "lines.collect()\n",
        "splits=lines.flatMap(lambda x:x.split(' '))\n",
        "lower_split=splits.map(lambda x:x.lower().strip())\n",
        "pre=['of','a','and','to']\n",
        "tokens=lower_splits.filter(lambda x:x and x not in prep)\n",
        "token_list=tokens.map(lambda x:[x,1])\n",
        "count=token_list.reduceByKey(add).sortBy(lambda x:x[1],ascending=False)\n",
        "count.collect()\n",
        "\n"
      ],
      "metadata": {
        "colab": {
          "base_uri": "https://localhost:8080/"
        },
        "id": "81Ic6RjSfWZI",
        "outputId": "5d254661-b56b-4965-b118-0124b760e22c"
      },
      "execution_count": null,
      "outputs": [
        {
          "output_type": "stream",
          "name": "stdout",
          "text": [
            "Mounted at /content/gdrive\n"
          ]
        },
        {
          "output_type": "execute_result",
          "data": {
            "text/plain": [
              "[('to be, or not to be, that is the question:', 1),\n",
              " (\"whether 'tis nobler in the mind to suffer\", 1),\n",
              " ('the slings and arrows of outrageous fortune,', 1),\n",
              " ('or to take arms against a sea of troubles', 1),\n",
              " ('and by opposing end them. to die—to sleep,', 1),\n",
              " ('no more; and by a sleep to say we end', 1),\n",
              " ('the heart-ache and the thousand natural shocks', 1),\n",
              " (\"that flesh is heir to: 'tis a consummation\", 1),\n",
              " (\"devoutly to be wish'd. to die, to sleep;\", 1),\n",
              " (\"to sleep, perchance to dream—ay, there's the rub:\", 1),\n",
              " ('for in that sleep of death what dreams may come,', 1),\n",
              " ('when we have shuffled off this mortal coil,', 1),\n",
              " (\"must give us pause—there's the respect\", 1),\n",
              " ('that makes calamity of so long life.', 1)]"
            ]
          },
          "metadata": {},
          "execution_count": 52
        }
      ]
    }
  ]
}