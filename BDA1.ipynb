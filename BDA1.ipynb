{
  "nbformat": 4,
  "nbformat_minor": 0,
  "metadata": {
    "colab": {
      "provenance": []
    },
    "kernelspec": {
      "name": "python3",
      "display_name": "Python 3"
    },
    "language_info": {
      "name": "python"
    }
  },
  "cells": [
    {
      "cell_type": "code",
      "execution_count": null,
      "metadata": {
        "colab": {
          "base_uri": "https://localhost:8080/"
        },
        "id": "gFn0-PLc7xV3",
        "outputId": "aa796fd9-05e7-40af-9c39-6811a45a5c20"
      },
      "outputs": [
        {
          "output_type": "stream",
          "name": "stdout",
          "text": [
            "Mounted at /content/gdrive\n",
            "+------+---+------+\n",
            "|  name|age|height|\n",
            "+------+---+------+\n",
            "|  john| 22|   180|\n",
            "|Hughes| 34|   196|\n",
            "|  Mary| 27|   156|\n",
            "+------+---+------+\n",
            "\n",
            "+---+\n",
            "|age|\n",
            "+---+\n",
            "| 22|\n",
            "| 34|\n",
            "| 27|\n",
            "+---+\n",
            "\n",
            "+---+------+\n",
            "|age|height|\n",
            "+---+------+\n",
            "| 22|   180|\n",
            "| 34|   196|\n",
            "| 27|   156|\n",
            "+---+------+\n",
            "\n"
          ]
        }
      ],
      "source": [
        "from pyspark.sql import SparkSession\n",
        "spark = SparkSession \\\n",
        ".builder \\\n",
        ".appName(\"Python Spark Session\") \\\n",
        ".getOrCreate()\n",
        "\n",
        "df = spark.createDataFrame([\n",
        "    (\"Jonh\", 22, 1.80), ( \"Hughes\", 34,1.96),\n",
        "    (\"Mary\",27, 1.56)], [\"name\", \"age\", \"height\"])\n",
        "from google.colab import drive\n",
        "drive.mount('/content/gdrive', force_remount=True)\n",
        "import pandas as pd\n",
        "\n",
        "# Load data\n",
        "df = spark.read.csv('/content/gdrive/MyDrive/mydata.csv',header=True,sep = ';')\n",
        "df.show()\n",
        "\n",
        "df['age'].Column['age']\n",
        "\n",
        "df.select(df['name'])\n",
        "df.select(df['age']).show()\n",
        "df.select(df['age'], df['height']).show()"
      ]
    }
  ]
}